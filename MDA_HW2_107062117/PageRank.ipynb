{
 "cells": [
  {
   "cell_type": "code",
   "execution_count": null,
   "id": "0226bccd",
   "metadata": {},
   "outputs": [],
   "source": [
    "from pyspark import SparkConf, SparkContext"
   ]
  },
  {
   "cell_type": "markdown",
   "id": "f5d7305e",
   "metadata": {},
   "source": [
    "### mapper_dealInput\n",
    "把input用 \\t 分隔，回傳 link: (start, end)"
   ]
  },
  {
   "cell_type": "code",
   "execution_count": null,
   "id": "a272b75c",
   "metadata": {},
   "outputs": [],
   "source": [
    "def mapper_dealInput(l):\n",
    "    l = l.split('\\t')\n",
    "    return (int(l[0]), int(l[1]))"
   ]
  },
  {
   "cell_type": "markdown",
   "id": "e770e4db",
   "metadata": {},
   "source": [
    "### 處理input, 計算outlink\n",
    "先創一個sparkContext, 處理input得到所有link:(start, end)  "
   ]
  },
  {
   "cell_type": "code",
   "execution_count": null,
   "id": "44682553",
   "metadata": {},
   "outputs": [],
   "source": [
    "sc.stop()\n",
    "conf = SparkConf().setMaster(\"local\").setAppName(\"pageRank\")\n",
    "sc = SparkContext(conf=conf)\n",
    "link = sc.textFile(\"input.txt\")\n",
    "link = link.map(mapper_dealInput)"
   ]
  },
  {
   "cell_type": "markdown",
   "id": "cc6f5527",
   "metadata": {},
   "source": [
    "### 計算node總數\n",
    "把所有被link的node（也就是在start或end出現過的node）集合起來，計算node數量和out link數量  "
   ]
  },
  {
   "cell_type": "code",
   "execution_count": null,
   "id": "ee3ad639",
   "metadata": {},
   "outputs": [],
   "source": [
    "linkSum = link.flatMap(lambda x : [(x[0], 1), (x[1], 0)])\n",
    "linkSum = linkSum.reduceByKey(lambda x, y : x + y)\n",
    "nodeNum = linkSum.count()"
   ]
  },
  {
   "cell_type": "markdown",
   "id": "9c71bafe",
   "metadata": {},
   "source": [
    "### 紀錄沒有inlink的node，map link\n",
    "\n",
    "先找所有end node, 不在end node中的其他node就是沒有inlink的node  \n",
    "把這些沒有inlink的node特別給一條 (node, node), 且value是0的link,  \n",
    "避免之後做乘法的時候，沒有inlink的node消失  \n",
    "再把link map成(start, (end, outlink))"
   ]
  },
  {
   "cell_type": "code",
   "execution_count": null,
   "id": "23e83e46",
   "metadata": {},
   "outputs": [],
   "source": [
    "ends = link.values().map(lambda x : (x, 1))\n",
    "no_inlink = linkSum.subtractByKey(ends).map(lambda x: (x[0], [x[0], 0]))\n",
    "\n",
    "link = link.join(linkSum)"
   ]
  },
  {
   "cell_type": "markdown",
   "id": "d35de9bc",
   "metadata": {},
   "source": [
    "### 初始化R值、b值，計算matrix BM\n",
    "1. 把上面計算過的node進行初始化，設成1/nodeNum\n",
    "2. 設 b = 0.8\n",
    "3. 根據定義，在matrix BM 裡面，根據link : (start (end, count))設定成 (j, [ i, b /count])\n",
    "4. 把之前為了避免node消失而產生的no_inlink加進matrix BM裡面"
   ]
  },
  {
   "cell_type": "code",
   "execution_count": null,
   "id": "2b32722f",
   "metadata": {},
   "outputs": [],
   "source": [
    "prevR = linkSum.map(lambda x : (x[0], 1 / nodeNum))\n",
    "# matrix BM 存成 (j ,(i, value))\n",
    "b = 0.8\n",
    "matBM = link.map(lambda x : (x[0], [x[1][0], b / x[1][1]]))\n",
    "matBM = matBM.union(no_inlink)"
   ]
  },
  {
   "cell_type": "markdown",
   "id": "c863dd3f",
   "metadata": {},
   "source": [
    "### 計算 r_new = BM * r_old + (1-b)/N\n",
    "1. 先把初始化好的prevR join到matrix裡，產生matT\n",
    "2. 再對同樣j值的pair進行相乘，保留i值，產生（i, matBM_ji * r_i）\n",
    "3. 最後把同樣i值的pair相加，再加上(1-b)/N，產生（i, r_i)\n",
    "4. 計算renormalize，r_i' = r_i + (1-S)/N，產生(i, r_i)\n",
    "5. 重複20個iterations\n",
    "6. 最後先對 i 進行sort，再取出前10名的r_i"
   ]
  },
  {
   "cell_type": "code",
   "execution_count": null,
   "id": "494c9496",
   "metadata": {
    "scrolled": true
   },
   "outputs": [],
   "source": [
    "# matT = (j, ( [ i, matA_ij ], r_j ))\n",
    "for i in range(20):\n",
    "    matT = matBM.join(prevR)\n",
    "    matT = matT.map(lambda x : (x[1][0][0], x[1][0][1] * x[1][1]))\n",
    "\n",
    "    matT = matT.reduceByKey(lambda x, y : (x + y))\n",
    "    matT = matT.map(lambda x : (x[0], x[1] + (1-b) / nodeNum))\n",
    "\n",
    "    # renormalize\n",
    "    valueSum = matT.values().sum()\n",
    "    matT = matT.map(lambda x : (x[0], x[1] + float((1 - valueSum) / nodeNum)))\n",
    "    prevR = matT\n",
    "\n",
    "ansR = prevR.sortByKey()\n",
    "ansR = ansR.top(10,key=lambda x : x[1] )\n",
    "print(ansR)"
   ]
  },
  {
   "cell_type": "code",
   "execution_count": null,
   "id": "fc2f530a",
   "metadata": {},
   "outputs": [],
   "source": [
    "with open(\"Outputfile.txt\", 'w') as f:\n",
    "    for i in range(min(len(ansR), 10)):\n",
    "        f.write(\"%d\\t%f\\n\" % (ansR[i][0], round(ansR[i][1], 6)))\n",
    "sc.stop()"
   ]
  }
 ],
 "metadata": {
  "kernelspec": {
   "display_name": "Python 3 (ipykernel)",
   "language": "python",
   "name": "python3"
  },
  "language_info": {
   "codemirror_mode": {
    "name": "ipython",
    "version": 3
   },
   "file_extension": ".py",
   "mimetype": "text/x-python",
   "name": "python",
   "nbconvert_exporter": "python",
   "pygments_lexer": "ipython3",
   "version": "3.8.5"
  }
 },
 "nbformat": 4,
 "nbformat_minor": 5
}
