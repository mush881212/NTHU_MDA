{
 "cells": [
  {
   "cell_type": "code",
   "execution_count": 25,
   "id": "aca77e92",
   "metadata": {},
   "outputs": [],
   "source": [
    "from pyspark import SparkConf, SparkContext\n",
    "import matplotlib.pyplot as plt\n",
    "import csv\n",
    "import numpy as np\n",
    "import matplotlib.ticker as ticker"
   ]
  },
  {
   "cell_type": "code",
   "execution_count": 3,
   "id": "4b974e37",
   "metadata": {},
   "outputs": [],
   "source": [
    "MAX_ITER = 20\n",
    "k = 10"
   ]
  },
  {
   "cell_type": "code",
   "execution_count": 4,
   "id": "9b15f63f",
   "metadata": {},
   "outputs": [],
   "source": [
    "def mapper1(l):\n",
    "    new = []\n",
    "    feature = l.split(' ')\n",
    "    for f in feature:\n",
    "        new.append(float(f))\n",
    "    return (new)"
   ]
  },
  {
   "cell_type": "code",
   "execution_count": 49,
   "id": "024de04e",
   "metadata": {},
   "outputs": [],
   "source": [
    "sc.stop()\n",
    "conf = SparkConf().setMaster(\"local\").setAppName(\"KMeans\")\n",
    "sc = SparkContext(conf=conf)\n",
    "data = sc.textFile(\"data.txt\")\n",
    "data = data.map(mapper1)\n",
    "c1 = sc.textFile(\"c1.txt\")\n",
    "c1 = c1.map(mapper1)\n",
    "c2 = sc.textFile(\"c2.txt\")\n",
    "c2 = c2.map(mapper1)\n",
    "data = data.zipWithIndex()\n",
    "c1 = c1.zipWithIndex()\n",
    "c2 = c2.zipWithIndex()"
   ]
  },
  {
   "cell_type": "markdown",
   "id": "f38a6fdf",
   "metadata": {},
   "source": [
    "### 計算Euclidean"
   ]
  },
  {
   "cell_type": "code",
   "execution_count": 6,
   "id": "bf01f919",
   "metadata": {},
   "outputs": [],
   "source": [
    "def euclidean(l):\n",
    "    dataIdx = l[0][1]\n",
    "    cIdx = l[1][1]\n",
    "    data = l[0][0]\n",
    "    c = l[1][0]\n",
    "    dist = sum([(x-y)**2 for x, y in zip(data, c)])\n",
    "    dist = dist**0.5\n",
    "    return (dataIdx, [cIdx, dist])"
   ]
  },
  {
   "cell_type": "markdown",
   "id": "05bbe7d5",
   "metadata": {},
   "source": [
    "### 計算Manhattan"
   ]
  },
  {
   "cell_type": "code",
   "execution_count": 7,
   "id": "eb0aed43",
   "metadata": {},
   "outputs": [],
   "source": [
    "def manhattan(l):\n",
    "    dataIdx = l[0][1]\n",
    "    cIdx = l[1][1]\n",
    "    data = l[0][0]\n",
    "    c = l[1][0]\n",
    "    dist = sum([abs(x-y) for x, y in zip(data, c)])\n",
    "    return (dataIdx, [cIdx, dist])"
   ]
  },
  {
   "cell_type": "markdown",
   "id": "57a1888f",
   "metadata": {},
   "source": [
    "### 回傳最小值"
   ]
  },
  {
   "cell_type": "code",
   "execution_count": 8,
   "id": "733f395e",
   "metadata": {},
   "outputs": [],
   "source": [
    "def cluster(x, y):\n",
    "    if x[1] <= y[1]:\n",
    "        return x\n",
    "    else:\n",
    "        return y"
   ]
  },
  {
   "cell_type": "markdown",
   "id": "d373011b",
   "metadata": {},
   "source": [
    "### K_means\n",
    "先使用cartesian把data和c1兩兩組合，之後再算data對每一個centroid的距離，最後跑reduce不斷回傳較小的值，最後獲得與該筆data最近的centroid及他們之間的距離  \n",
    "得到每一筆data和最近centroid的距離之後，將所有點的最短距離加總得到cost  \n",
    "再對centroid進行更新，先拿計算好的 pair：(dataIdx, [cIdx_min, dist_min])）map並join原始data產生（dataIdx, (cIdx_Min, dataFeature)）  \n",
    "再map到(cIdx,(1, dataFeature)) 把分到新的群中的所有點的feature找出來並且加總這些dataFeature，加完後取平均得到新的centroid"
   ]
  },
  {
   "cell_type": "markdown",
   "id": "8a38bac3",
   "metadata": {},
   "source": [
    "### Manhattan with C1"
   ]
  },
  {
   "cell_type": "code",
   "execution_count": 17,
   "id": "8e17b712",
   "metadata": {
    "scrolled": false
   },
   "outputs": [
    {
     "name": "stderr",
     "output_type": "stream",
     "text": [
      "/Users/licairong/spark-3.1.2-bin-hadoop3.2/python/lib/pyspark.zip/pyspark/shuffle.py:60: UserWarning: Please install psutil to have better support with spilling\n",
      "/Users/licairong/spark-3.1.2-bin-hadoop3.2/python/lib/pyspark.zip/pyspark/shuffle.py:60: UserWarning: Please install psutil to have better support with spilling\n",
      "/Users/licairong/spark-3.1.2-bin-hadoop3.2/python/lib/pyspark.zip/pyspark/shuffle.py:60: UserWarning: Please install psutil to have better support with spilling\n",
      "                                                                                \r"
     ]
    }
   ],
   "source": [
    "c1_Result = []\n",
    "c = c1\n",
    "for i in range(MAX_ITER):\n",
    "    \n",
    "    pair = data.cartesian(c) #(([dataFeat], dataIdx), ([c1Feat], cIdx))\n",
    "    pair = pair.map(manhattan) #(dataIdx, [cIdx, dist])\n",
    "    pair = pair.reduceByKey(cluster) #(dataIdx, [cIdx_min, dist_min])\n",
    "    # cost \n",
    "    cost = pair.map(lambda x : x[1][1]).sum()\n",
    "    c1_Result.append(cost)\n",
    "    \n",
    "    # update centroid\n",
    "    dataMap = data.map(lambda x : (x[1], x[0]))\n",
    "    c = pair.map(lambda x : (x[0], x[1][0])).join(dataMap)\n",
    "    c = c.map(lambda x : (x[1][0], (1, x[1][1])))\n",
    "    c = c.reduceByKey(lambda x, y: (x[0]+y[0], [i+j for i, j in zip(x[1], y[1])]))\n",
    "    c = c.map(lambda x : ([i / x[1][0] for i in x[1][1]], x[0]))\n"
   ]
  },
  {
   "cell_type": "markdown",
   "id": "21c6159f",
   "metadata": {},
   "source": [
    "### Euclidean with C1"
   ]
  },
  {
   "cell_type": "code",
   "execution_count": 50,
   "id": "64e2b46a",
   "metadata": {},
   "outputs": [
    {
     "name": "stderr",
     "output_type": "stream",
     "text": [
      "/Users/licairong/spark-3.1.2-bin-hadoop3.2/python/lib/pyspark.zip/pyspark/shuffle.py:60: UserWarning: Please install psutil to have better support with spilling\n",
      "/Users/licairong/spark-3.1.2-bin-hadoop3.2/python/lib/pyspark.zip/pyspark/shuffle.py:60: UserWarning: Please install psutil to have better support with spilling\n",
      "/Users/licairong/spark-3.1.2-bin-hadoop3.2/python/lib/pyspark.zip/pyspark/shuffle.py:60: UserWarning: Please install psutil to have better support with spilling\n",
      "                                                                                \r"
     ]
    }
   ],
   "source": [
    "c1_Result = []\n",
    "c = c1\n",
    "for i in range(MAX_ITER):\n",
    "    pair = data.cartesian(c)\n",
    "    pair = pair.map(euclidean)\n",
    "    pair = pair.reduceByKey(cluster)\n",
    "    cost = pair.map(lambda x : x[1][1] ** 2).sum()\n",
    "    c1_Result.append(cost)\n",
    "    \n",
    "    # update centroid\n",
    "    dataMap = data.map(lambda x : (x[1], x[0]))\n",
    "    c = pair.map(lambda x : (x[0], x[1][0])).join(dataMap)\n",
    "    c = c.map(lambda x : (x[1][0], (1, x[1][1])))\n",
    "    c = c.reduceByKey(lambda x, y: (x[0]+y[0], [i+j for i, j in zip(x[1], y[1])]))\n",
    "    c = c.map(lambda x : ([i / x[1][0] for i in x[1][1]], x[0]))"
   ]
  },
  {
   "cell_type": "markdown",
   "id": "0cb75c5c",
   "metadata": {},
   "source": [
    "### Manhattan with C2"
   ]
  },
  {
   "cell_type": "code",
   "execution_count": 18,
   "id": "8910f683",
   "metadata": {},
   "outputs": [
    {
     "name": "stderr",
     "output_type": "stream",
     "text": [
      "                                                                                \r"
     ]
    }
   ],
   "source": [
    "c2_Result = []\n",
    "c = c2\n",
    "for i in range(MAX_ITER):\n",
    "    pair = data.cartesian(c)\n",
    "    pair = pair.map(manhattan)\n",
    "    pair = pair.reduceByKey(cluster)\n",
    "    cost = pair.map(lambda x : x[1][1]).sum()\n",
    "    c2_Result.append(cost)\n",
    "    \n",
    "    # update centroid\n",
    "    dataMap = data.map(lambda x : (x[1], x[0]))\n",
    "    c = pair.map(lambda x : (x[0], x[1][0])).join(dataMap)\n",
    "    c = c.map(lambda x : (x[1][0], (1, x[1][1])))\n",
    "    c = c.reduceByKey(lambda x, y: (x[0]+y[0], [i+j for i, j in zip(x[1], y[1])]))\n",
    "    c = c.map(lambda x : ([i / x[1][0] for i in x[1][1]], x[0]))"
   ]
  },
  {
   "cell_type": "markdown",
   "id": "f7c8daaa",
   "metadata": {},
   "source": [
    "### Euclidean with C2"
   ]
  },
  {
   "cell_type": "code",
   "execution_count": 51,
   "id": "52e344b4",
   "metadata": {},
   "outputs": [
    {
     "name": "stderr",
     "output_type": "stream",
     "text": [
      "                                                                                \r"
     ]
    }
   ],
   "source": [
    "c2_Result = []\n",
    "c = c2\n",
    "for i in range(MAX_ITER):\n",
    "    pair = data.cartesian(c)\n",
    "    pair = pair.map(euclidean)\n",
    "    pair = pair.reduceByKey(cluster)\n",
    "    cost = pair.map(lambda x : x[1][1] ** 2).sum()\n",
    "    c2_Result.append(cost)\n",
    "    \n",
    "    # update centroid\n",
    "    dataMap = data.map(lambda x : (x[1], x[0]))\n",
    "    c = pair.map(lambda x : (x[0], x[1][0])).join(dataMap)\n",
    "    c = c.map(lambda x : (x[1][0], (1, x[1][1])))\n",
    "    c = c.reduceByKey(lambda x, y: (x[0]+y[0], [i+j for i, j in zip(x[1], y[1])]))\n",
    "    c = c.map(lambda x : ([i / x[1][0] for i in x[1][1]], x[0]))"
   ]
  },
  {
   "cell_type": "markdown",
   "id": "d13a6024",
   "metadata": {},
   "source": [
    "### 計算centroid之間的距離\n",
    "使用和算data和centroid之間的距離一樣的方法，計算centroid之間的距離\n",
    "並寫入csv檔"
   ]
  },
  {
   "cell_type": "code",
   "execution_count": null,
   "id": "8fe1da46",
   "metadata": {},
   "outputs": [],
   "source": [
    "# centroid dist\n",
    "#pair = c2.cartesian(c2)\n",
    "pair = c1.cartesian(c1)\n",
    "\n",
    "mahattan_dist = pair.map(manhattan).map(lambda x : ((x[0], x[1][0]), x[1][1]))\n",
    "euclidean_dist = pair.map(euclidean).map(lambda x : ((x[0], x[1][0]), x[1][1]))\n",
    "\n",
    "man = mahattan_dist.collect()\n",
    "euc = euclidean_dist.collect()\n",
    "\n",
    "cDist = np.zeros((10, 10))\n",
    "\n",
    "k = 0\n",
    "for i in range(10):\n",
    "    for j in range(10):\n",
    "        cDist[man[k][0][0]][man[k][0][1]] = man[k][1]\n",
    "        k+=1\n",
    "\n",
    "with open('ans.csv', 'a', newline='') as csvfile:\n",
    "    writer = csv.writer(csvfile)\n",
    "    writer.writerows(['man'])\n",
    "    writer.writerows(cDist)\n",
    "    \n",
    "k = 0\n",
    "for i in range(10):\n",
    "    for j in range(10):\n",
    "        cDist[euc[k][0][0]][euc[k][0][1]] = euc[k][1]\n",
    "        k+=1\n",
    "        \n",
    "with open('ans.csv', 'a', newline='') as csvfile:\n",
    "    writer = csv.writer(csvfile)\n",
    "    writer.writerows(['euc'])\n",
    "    writer.writerows(cDist)"
   ]
  },
  {
   "cell_type": "code",
   "execution_count": 52,
   "id": "f5f1c4a6",
   "metadata": {},
   "outputs": [
    {
     "data": {
      "text/plain": [
       "[<matplotlib.lines.Line2D at 0x7f9165a65c70>]"
      ]
     },
     "execution_count": 52,
     "metadata": {},
     "output_type": "execute_result"
    },
    {
     "data": {
      "image/png": "[encoded data removed]",
      "text/plain": [
       "<Figure size 864x432 with 1 Axes>"
      ]
     },
     "metadata": {
      "needs_background": "light"
     },
     "output_type": "display_data"
    }
   ],
   "source": [
    "fig, ax = plt.subplots(1, 1, figsize = (12, 6))\n",
    "x = [\"Round\\n\"+str(i) for i in range(1, 21, 1)]\n",
    "\n",
    "ax.yaxis.set_major_formatter(ticker.FormatStrFormatter('%.2E'))\n",
    "ax.yaxis.grid() \n",
    "ax.plot(x, c1_Result)\n",
    "ax.plot(x, c2_Result)"
   ]
  },
  {
   "cell_type": "code",
   "execution_count": null,
   "id": "20002b0d",
   "metadata": {},
   "outputs": [],
   "source": [
    "d=[[\"Round %d\" % (i + 1),  format(c1_Result[i], \".2E\"), format(c2_Result[i], \".2E\")] for i in range(len(c1_Result))]\n",
    "column_labels=[\"\", \"c1\", \"c2\"]\n",
    "\n",
    "t = plt.table(cellText=d, colLabels=column_labels, loc=\"center\")\n",
    "t.set_fontsize(34)\n",
    "t.scale(1, 4)\n",
    "plt.axis('off')\n",
    "\n",
    "plt.show()"
   ]
  },
  {
   "cell_type": "code",
   "execution_count": null,
   "id": "1271ed5d",
   "metadata": {},
   "outputs": [],
   "source": [
    "ipv1 = (c1_Result[19] - c1_Result[0])/c1_Result[0] * 100\n",
    "ipv2 = (c2_Result[19] - c2_Result[0])/c2_Result[0] * 100\n",
    "print(\"Improvement for c1: %f %%\" % abs(ipv1))\n",
    "print(\"Improvement for c2: %f %%\" % abs(ipv2))"
   ]
  }
 ],
 "metadata": {
  "kernelspec": {
   "display_name": "Python 3 (ipykernel)",
   "language": "python",
   "name": "python3"
  },
  "language_info": {
   "codemirror_mode": {
    "name": "ipython",
    "version": 3
   },
   "file_extension": ".py",
   "mimetype": "text/x-python",
   "name": "python",
   "nbconvert_exporter": "python",
   "pygments_lexer": "ipython3",
   "version": "3.8.5"
  }
 },
 "nbformat": 4,
 "nbformat_minor": 5
}
